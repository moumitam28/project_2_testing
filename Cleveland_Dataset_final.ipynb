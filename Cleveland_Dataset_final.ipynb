{
  "nbformat": 4,
  "nbformat_minor": 0,
  "metadata": {
    "kernelspec": {
      "display_name": "Python 3",
      "language": "python",
      "name": "python3"
    },
    "language_info": {
      "codemirror_mode": {
        "name": "ipython",
        "version": 3
      },
      "file_extension": ".py",
      "mimetype": "text/x-python",
      "name": "python",
      "nbconvert_exporter": "python",
      "pygments_lexer": "ipython3",
      "version": "3.7.4"
    },
    "colab": {
      "name": " Cleveland-Dataset_final.ipynb",
      "provenance": [],
      "collapsed_sections": [],
      "toc_visible": true
    }
  },
  "cells": [
    {
      "cell_type": "markdown",
      "metadata": {
        "id": "U_CO4mNJNK1i"
      },
      "source": [
        "#Data Import "
      ]
    },
    {
      "cell_type": "code",
      "metadata": {
        "id": "r4xWjAqu-s_3"
      },
      "source": [
        "import pandas as pd\n",
        "import numpy as np"
      ],
      "execution_count": null,
      "outputs": []
    },
    {
      "cell_type": "code",
      "metadata": {
        "id": "yiIS38bu-s_-",
        "outputId": "3db30460-a28e-4331-c025-db357bcd6d3e",
        "colab": {
          "base_uri": "https://localhost:8080/",
          "height": 204
        }
      },
      "source": [
        "data = pd.read_csv('heart.csv')\n",
        "data.head()"
      ],
      "execution_count": null,
      "outputs": [
        {
          "output_type": "execute_result",
          "data": {
            "text/html": [
              "<div>\n",
              "<style scoped>\n",
              "    .dataframe tbody tr th:only-of-type {\n",
              "        vertical-align: middle;\n",
              "    }\n",
              "\n",
              "    .dataframe tbody tr th {\n",
              "        vertical-align: top;\n",
              "    }\n",
              "\n",
              "    .dataframe thead th {\n",
              "        text-align: right;\n",
              "    }\n",
              "</style>\n",
              "<table border=\"1\" class=\"dataframe\">\n",
              "  <thead>\n",
              "    <tr style=\"text-align: right;\">\n",
              "      <th></th>\n",
              "      <th>age</th>\n",
              "      <th>sex</th>\n",
              "      <th>cp</th>\n",
              "      <th>trestbps</th>\n",
              "      <th>chol</th>\n",
              "      <th>fbs</th>\n",
              "      <th>restecg</th>\n",
              "      <th>thalach</th>\n",
              "      <th>exang</th>\n",
              "      <th>oldpeak</th>\n",
              "      <th>slope</th>\n",
              "      <th>ca</th>\n",
              "      <th>thal</th>\n",
              "      <th>target</th>\n",
              "    </tr>\n",
              "  </thead>\n",
              "  <tbody>\n",
              "    <tr>\n",
              "      <th>0</th>\n",
              "      <td>63</td>\n",
              "      <td>1</td>\n",
              "      <td>3</td>\n",
              "      <td>145</td>\n",
              "      <td>233</td>\n",
              "      <td>1</td>\n",
              "      <td>0</td>\n",
              "      <td>150</td>\n",
              "      <td>0</td>\n",
              "      <td>2.3</td>\n",
              "      <td>0</td>\n",
              "      <td>0</td>\n",
              "      <td>1</td>\n",
              "      <td>1</td>\n",
              "    </tr>\n",
              "    <tr>\n",
              "      <th>1</th>\n",
              "      <td>37</td>\n",
              "      <td>1</td>\n",
              "      <td>2</td>\n",
              "      <td>130</td>\n",
              "      <td>250</td>\n",
              "      <td>0</td>\n",
              "      <td>1</td>\n",
              "      <td>187</td>\n",
              "      <td>0</td>\n",
              "      <td>3.5</td>\n",
              "      <td>0</td>\n",
              "      <td>0</td>\n",
              "      <td>2</td>\n",
              "      <td>1</td>\n",
              "    </tr>\n",
              "    <tr>\n",
              "      <th>2</th>\n",
              "      <td>41</td>\n",
              "      <td>0</td>\n",
              "      <td>1</td>\n",
              "      <td>130</td>\n",
              "      <td>204</td>\n",
              "      <td>0</td>\n",
              "      <td>0</td>\n",
              "      <td>172</td>\n",
              "      <td>0</td>\n",
              "      <td>1.4</td>\n",
              "      <td>2</td>\n",
              "      <td>0</td>\n",
              "      <td>2</td>\n",
              "      <td>1</td>\n",
              "    </tr>\n",
              "    <tr>\n",
              "      <th>3</th>\n",
              "      <td>56</td>\n",
              "      <td>1</td>\n",
              "      <td>1</td>\n",
              "      <td>120</td>\n",
              "      <td>236</td>\n",
              "      <td>0</td>\n",
              "      <td>1</td>\n",
              "      <td>178</td>\n",
              "      <td>0</td>\n",
              "      <td>0.8</td>\n",
              "      <td>2</td>\n",
              "      <td>0</td>\n",
              "      <td>2</td>\n",
              "      <td>1</td>\n",
              "    </tr>\n",
              "    <tr>\n",
              "      <th>4</th>\n",
              "      <td>57</td>\n",
              "      <td>0</td>\n",
              "      <td>0</td>\n",
              "      <td>120</td>\n",
              "      <td>354</td>\n",
              "      <td>0</td>\n",
              "      <td>1</td>\n",
              "      <td>163</td>\n",
              "      <td>1</td>\n",
              "      <td>0.6</td>\n",
              "      <td>2</td>\n",
              "      <td>0</td>\n",
              "      <td>2</td>\n",
              "      <td>1</td>\n",
              "    </tr>\n",
              "  </tbody>\n",
              "</table>\n",
              "</div>"
            ],
            "text/plain": [
              "   age  sex  cp  trestbps  chol  fbs  ...  exang  oldpeak  slope  ca  thal  target\n",
              "0   63    1   3       145   233    1  ...      0      2.3      0   0     1       1\n",
              "1   37    1   2       130   250    0  ...      0      3.5      0   0     2       1\n",
              "2   41    0   1       130   204    0  ...      0      1.4      2   0     2       1\n",
              "3   56    1   1       120   236    0  ...      0      0.8      2   0     2       1\n",
              "4   57    0   0       120   354    0  ...      1      0.6      2   0     2       1\n",
              "\n",
              "[5 rows x 14 columns]"
            ]
          },
          "metadata": {
            "tags": []
          },
          "execution_count": 2
        }
      ]
    },
    {
      "cell_type": "code",
      "metadata": {
        "id": "2XmeXWs0-tAP",
        "outputId": "a4ec39d8-99f1-48e0-f743-44b8302e9524",
        "colab": {
          "base_uri": "https://localhost:8080/",
          "height": 68
        }
      },
      "source": [
        "pip install xgboost"
      ],
      "execution_count": null,
      "outputs": [
        {
          "output_type": "stream",
          "text": [
            "Requirement already satisfied: xgboost in /usr/local/lib/python3.6/dist-packages (0.90)\n",
            "Requirement already satisfied: scipy in /usr/local/lib/python3.6/dist-packages (from xgboost) (1.4.1)\n",
            "Requirement already satisfied: numpy in /usr/local/lib/python3.6/dist-packages (from xgboost) (1.18.5)\n"
          ],
          "name": "stdout"
        }
      ]
    },
    {
      "cell_type": "markdown",
      "metadata": {
        "id": "qBlcd6QHNRk6"
      },
      "source": [
        "#Run k-fold CV \n"
      ]
    },
    {
      "cell_type": "code",
      "metadata": {
        "id": "k_hgMopP-tAX",
        "outputId": "c5fe2a00-d707-47af-811a-4cc536c503e7",
        "colab": {
          "base_uri": "https://localhost:8080/",
          "height": 85
        }
      },
      "source": [
        "from sklearn.model_selection import train_test_split\n",
        "from numpy import mean\n",
        "from numpy import std\n",
        "from sklearn.datasets import make_classification\n",
        "from sklearn.model_selection import KFold\n",
        "from sklearn.model_selection import RepeatedKFold\n",
        "from sklearn.model_selection import cross_val_score\n",
        "from sklearn.neural_network import MLPClassifier\n",
        "\n",
        "\n",
        "X = data.drop(['target'], axis=1)\n",
        "y = data.target\n",
        "cv = KFold(n_splits=10, random_state=1, shuffle=True)\n",
        "cv1 = RepeatedKFold(n_splits=10, n_repeats=3, random_state=1)\n",
        "\n",
        "x_train, x_test, y_train, y_test = train_test_split(X,y,test_size=0.5)\n",
        "\n",
        "from sklearn.svm import SVC, LinearSVC\n",
        "from sklearn.ensemble import RandomForestClassifier\n",
        "from xgboost import XGBClassifier\n",
        "\n",
        "SVM = SVC(kernel='linear', class_weight='balanced')#using balanced svm\n",
        "RFC = RandomForestClassifier()\n",
        "XGB = XGBClassifier()\n",
        "MLP = MLPClassifier()\n",
        "\n",
        "scores = cross_val_score(SVM, X, y, scoring='accuracy', cv=cv, n_jobs=-1)\n",
        "#scores1 = cross_val_score(SVM, X, y, scoring='accuracy', cv=cv1, n_jobs=-1)\n",
        "print('SVM Accuracy 10 fold: %.4f (%.3f)' % (mean(scores)*100, std(scores)))\n",
        "#print('SVM Accuracy Repeated 10 fold: %.3f (%.3f)' % (mean(scores1), std(scores1)))\n",
        "scores = cross_val_score(RFC, X, y, scoring='accuracy', cv=cv, n_jobs=-1)\n",
        "#scores1 = cross_val_score(RFC, X, y, scoring='accuracy', cv=cv1, n_jobs=-1)\n",
        "print('RFC Accuracy 10 fold: %.4f (%.3f)' % (mean(scores)*100, std(scores)))\n",
        "#print('RFC Accuracy Repeated 10 fold: %.3f (%.3f)' % (mean(scores1), std(scores1)))\n",
        "scores = cross_val_score(XGB, X, y, scoring='accuracy', cv=cv, n_jobs=-1)\n",
        "#scores1 = cross_val_score(XGB, X, y, scoring='accuracy', cv=cv1, n_jobs=-1)\n",
        "print('XGB Accuracy 10 fold: %.4f (%.3f)' % (mean(scores)*100, std(scores)))\n",
        "#print('XGB Accuracy Repeated 10 fold: %.3f (%.3f)' % (mean(scores1), std(scores1)))\n",
        "scores = cross_val_score(MLP, X, y, scoring='accuracy', cv=cv, n_jobs=-1)\n",
        "print('MLP Accuracy 10 fold: %.4f (%.3f)' % (mean(scores)*100, std(scores)))\n"
      ],
      "execution_count": null,
      "outputs": [
        {
          "output_type": "stream",
          "text": [
            "SVM Accuracy 10 fold: 81.8817 (0.086)\n",
            "RFC Accuracy 10 fold: 81.2581 (0.103)\n",
            "XGB Accuracy 10 fold: 80.5376 (0.081)\n",
            "MLP Accuracy 10 fold: 79.9140 (0.073)\n"
          ],
          "name": "stdout"
        }
      ]
    },
    {
      "cell_type": "markdown",
      "metadata": {
        "id": "njpsE0GPNd_6"
      },
      "source": [
        "*Scaling data for KNN run*"
      ]
    },
    {
      "cell_type": "code",
      "metadata": {
        "id": "ptJzv31hMLeR",
        "outputId": "0b17b12d-0e2b-496a-e9c7-211303bdbbb8",
        "colab": {
          "base_uri": "https://localhost:8080/",
          "height": 34
        }
      },
      "source": [
        "from sklearn.neighbors import KNeighborsClassifier\n",
        "from sklearn.preprocessing import StandardScaler\n",
        "df_model = data.copy()\n",
        "#Rescaling features age, trestbps, chol, thalach, oldpeak.\n",
        "scaler = StandardScaler()\n",
        "features = [['age', 'trestbps', 'chol', 'thalach', 'oldpeak']]\n",
        "for feature in features:\n",
        "  df_model[feature] = scaler.fit_transform(df_model[feature])    \n",
        "#Create x and y variable\n",
        "X_ = df_model.drop(columns=['target'])\n",
        "y_ = df_model['target']  \n",
        "KNN=KNeighborsClassifier()\n",
        "scores = cross_val_score(KNN, X_, y_, scoring='accuracy', cv=cv, n_jobs=-1)\n",
        "#scores1 = cross_val_score(KNN, X, y, scoring='accuracy', cv=cv1, n_jobs=-1)\n",
        "print('KNN Accuracy 10 fold: %.4f (%.3f)' % (mean(scores)*100, std(scores)))\n",
        "#print('KNN Accuracy Repeated 10 fold: %.3f (%.3f)' % (mean(scores1), std(scores1)))"
      ],
      "execution_count": null,
      "outputs": [
        {
          "output_type": "stream",
          "text": [
            "KNN Accuracy 10 fold: 81.5806 (0.083)\n"
          ],
          "name": "stdout"
        }
      ]
    },
    {
      "cell_type": "code",
      "metadata": {
        "id": "gnObatyJ_fve",
        "outputId": "785ef802-4d5b-46b3-fed6-06b0eb8f340b",
        "colab": {
          "base_uri": "https://localhost:8080/",
          "height": 102
        }
      },
      "source": [
        "x_train, x_test, y_train, y_test = train_test_split(X,y,test_size=0.3)\n",
        "\n",
        "SVM.fit(x_train, y_train)\n",
        "print('SVM Score:', SVM.score(x_test,y_test))\n",
        "RFC.fit(x_train, y_train)\n",
        "print('RFC Score:', RFC.score(x_test,y_test))\n",
        "XGB.fit(x_train, y_train)\n",
        "print('XGB Score:', XGB.score(x_test,y_test))\n",
        "KNN.fit(x_train, y_train)\n",
        "print('KNN Score:', KNN.score(x_test,y_test))\n",
        "MLP = MLPClassifier(random_state=1, max_iter=150).fit(x_train, y_train)\n",
        "print('MLP Score:', MLP.score(x_test,y_test))\n"
      ],
      "execution_count": null,
      "outputs": [
        {
          "output_type": "stream",
          "text": [
            "SVM Score: 0.7912087912087912\n",
            "RFC Score: 0.8131868131868132\n",
            "XGB Score: 0.7692307692307693\n",
            "KNN Score: 0.5714285714285714\n",
            "MLP Score: 0.6923076923076923\n"
          ],
          "name": "stdout"
        }
      ]
    },
    {
      "cell_type": "markdown",
      "metadata": {
        "id": "RvKnRhkENnqk"
      },
      "source": [
        "#Chi-Sqr"
      ]
    },
    {
      "cell_type": "code",
      "metadata": {
        "id": "AQOwLSJG-tAn",
        "outputId": "03733e53-64d6-4b88-b4db-769d69f6b7f7",
        "colab": {
          "base_uri": "https://localhost:8080/",
          "height": 51
        }
      },
      "source": [
        "#Chi-Square Test\n",
        "\n",
        "import scipy.stats as stats\n",
        "from scipy.stats import chi2\n",
        "\n",
        "def chi_sqr(test_column,output_column):\n",
        "    observed_value = pd.crosstab(test_column,output_column)\n",
        "    val = stats.chi2_contingency(observed_value)\n",
        "    expected_value=val[3]\n",
        "    no_of_rows=len(observed_value.iloc[0:2,0])\n",
        "    no_of_columns=len(observed_value.iloc[0,0:2])\n",
        "    dgof=(no_of_rows-1)*(no_of_columns-1)\n",
        "    alpha=0.05\n",
        "    for o,e in zip(observed_value.values,expected_value):\n",
        "        chi_2 = sum([(o-e)**2./e])       \n",
        "    chi2_stat = np.sum(chi_2)\n",
        "    return chi2_stat\n",
        "    \n",
        "df1 = data.drop(['target'], axis=1)\n",
        "top_n1 =[]\n",
        "for i in df1.columns.values:\n",
        "    top_n1.append(chi_sqr(df1[i],data['target']))\n",
        "    \n",
        "col_name1 = np.array(X.columns)\n",
        "a1 = pd.DataFrame(top_n1)\n",
        "b1 = pd.DataFrame(col_name1)\n",
        "info1 = pd.concat([a1,b1], axis=1)\n",
        "info1.columns = ['Score','Features']\n",
        "\n",
        "top1 = info1.nsmallest(20,'Score')\n",
        "ft1 = np.array(top1['Features'])\n",
        "top1\n",
        "ft1"
      ],
      "execution_count": null,
      "outputs": [
        {
          "output_type": "execute_result",
          "data": {
            "text/plain": [
              "array(['fbs', 'chol', 'thalach', 'age', 'trestbps', 'oldpeak', 'ca',\n",
              "       'restecg', 'cp', 'sex', 'slope', 'exang', 'thal'], dtype=object)"
            ]
          },
          "metadata": {
            "tags": []
          },
          "execution_count": 7
        }
      ]
    },
    {
      "cell_type": "markdown",
      "metadata": {
        "id": "GiRVdRKTNq2-"
      },
      "source": [
        "#ReliefF"
      ]
    },
    {
      "cell_type": "code",
      "metadata": {
        "id": "Tl7KZukfEOyK",
        "outputId": "e00b8268-b4ee-468b-f6f7-587262181010",
        "colab": {
          "base_uri": "https://localhost:8080/",
          "height": 258
        }
      },
      "source": [
        "pip install skrebate"
      ],
      "execution_count": null,
      "outputs": [
        {
          "output_type": "stream",
          "text": [
            "Collecting skrebate\n",
            "  Downloading https://files.pythonhosted.org/packages/d3/8a/969e619753c299b4d3943808ef5f7eb6587d3cb78c93dcbcc3e4ce269f89/skrebate-0.61.tar.gz\n",
            "Requirement already satisfied: numpy in /usr/local/lib/python3.6/dist-packages (from skrebate) (1.18.5)\n",
            "Requirement already satisfied: scipy in /usr/local/lib/python3.6/dist-packages (from skrebate) (1.4.1)\n",
            "Requirement already satisfied: scikit-learn in /usr/local/lib/python3.6/dist-packages (from skrebate) (0.22.2.post1)\n",
            "Requirement already satisfied: joblib>=0.11 in /usr/local/lib/python3.6/dist-packages (from scikit-learn->skrebate) (0.16.0)\n",
            "Building wheels for collected packages: skrebate\n",
            "  Building wheel for skrebate (setup.py) ... \u001b[?25l\u001b[?25hdone\n",
            "  Created wheel for skrebate: filename=skrebate-0.61-cp36-none-any.whl size=29259 sha256=7fbbeb2ca7988c9f158cd66ae34fe02b05ab741d4ac17c0649fcd22e7813b57d\n",
            "  Stored in directory: /root/.cache/pip/wheels/ae/d8/ae/9b51d487e9d02219996d6c260255a216ef07d905b0a0b00ce3\n",
            "Successfully built skrebate\n",
            "Installing collected packages: skrebate\n",
            "Successfully installed skrebate-0.61\n"
          ],
          "name": "stdout"
        }
      ]
    },
    {
      "cell_type": "code",
      "metadata": {
        "id": "oUoO1Rgz-tAs",
        "outputId": "6416925f-39b7-4c27-d1fe-b7edc520e993",
        "colab": {
          "base_uri": "https://localhost:8080/",
          "height": 51
        }
      },
      "source": [
        "#ReliefF\n",
        "\n",
        "from sklearn.pipeline import make_pipeline\n",
        "from skrebate import ReliefF\n",
        "\n",
        "features, classes = data.drop('target', axis=1).values, data['target'].values\n",
        "X_train, X_test, y_train, y_test = train_test_split(features, classes)\n",
        "\n",
        "arr = X_train.astype('float64')\n",
        "fs = ReliefF()\n",
        "fs.fit(arr, y_train)\n",
        "\n",
        "top_n2=[]\n",
        "names=[]\n",
        "for feature_name, feature_score in zip(data.drop('target', axis=1).columns, fs.feature_importances_):\n",
        "    top_n2.append(feature_score)\n",
        "    names.append(feature_name)\n",
        "    \n",
        "col_name3 = np.array(data.columns)\n",
        "a3 = pd.DataFrame(top_n2)\n",
        "b3 = pd.DataFrame(names)\n",
        "\n",
        "info3 = pd.concat([a3,b3], axis=1)\n",
        "info3.columns = ['Score','Features'] \n",
        "\n",
        "top3 = info3.nlargest(20,'Score')\n",
        "ft3 = np.array(top3['Features'])\n",
        "ft3"
      ],
      "execution_count": null,
      "outputs": [
        {
          "output_type": "execute_result",
          "data": {
            "text/plain": [
              "array(['thal', 'exang', 'cp', 'ca', 'slope', 'thalach', 'oldpeak', 'sex',\n",
              "       'restecg', 'age', 'chol', 'fbs', 'trestbps'], dtype=object)"
            ]
          },
          "metadata": {
            "tags": []
          },
          "execution_count": 12
        }
      ]
    },
    {
      "cell_type": "markdown",
      "metadata": {
        "id": "Ne08eR0VNwu3"
      },
      "source": [
        "#Mutual Info"
      ]
    },
    {
      "cell_type": "code",
      "metadata": {
        "id": "8ptVvYoQ-tAy",
        "outputId": "449c44e0-2aa1-4218-bc45-e6bcb2fb148a",
        "colab": {
          "base_uri": "https://localhost:8080/",
          "height": 51
        }
      },
      "source": [
        "#Information Gain/Mutual Information\n",
        "\n",
        "from sklearn.feature_selection import mutual_info_classif\n",
        "\n",
        "res = mutual_info_classif(X,y,discrete_features=True)\n",
        "\n",
        "col_name2 = np.array(X.columns)\n",
        "\n",
        "a2 = pd.DataFrame(res)\n",
        "b2 = pd.DataFrame(col_name2)\n",
        "info2 = pd.concat([a2,b2], axis=1)\n",
        "info2.columns = ['Info_Gain','Features']\n",
        "\n",
        "top2 = info2.nlargest(20,'Info_Gain')\n",
        "ft2 = np.array(top2['Features'])\n",
        "ft2"
      ],
      "execution_count": null,
      "outputs": [
        {
          "output_type": "execute_result",
          "data": {
            "text/plain": [
              "array(['chol', 'thalach', 'oldpeak', 'thal', 'cp', 'ca', 'exang',\n",
              "       'trestbps', 'age', 'slope', 'sex', 'restecg', 'fbs'], dtype=object)"
            ]
          },
          "metadata": {
            "tags": []
          },
          "execution_count": 13
        }
      ]
    },
    {
      "cell_type": "markdown",
      "metadata": {
        "id": "nOgJ989RN055"
      },
      "source": [
        "*Interscetion Check*"
      ]
    },
    {
      "cell_type": "code",
      "metadata": {
        "id": "_lPKFykN-tA3"
      },
      "source": [
        "from functools import reduce\n",
        "def top_fs_int(n):\n",
        "    f1 = ft1[:n]\n",
        "    f2 = ft2[:n]\n",
        "    f3 = ft3[:n]\n",
        "    return(reduce(np.intersect1d, (f1,f2,f3)))"
      ],
      "execution_count": null,
      "outputs": []
    },
    {
      "cell_type": "code",
      "metadata": {
        "id": "LUf4TO9F-tA8",
        "outputId": "7b77f04c-d80f-4d35-a498-d3b261567765",
        "colab": {
          "base_uri": "https://localhost:8080/",
          "height": 34
        }
      },
      "source": [
        "top_fs_int(5)"
      ],
      "execution_count": null,
      "outputs": [
        {
          "output_type": "execute_result",
          "data": {
            "text/plain": [
              "array([], dtype=object)"
            ]
          },
          "metadata": {
            "tags": []
          },
          "execution_count": 19
        }
      ]
    },
    {
      "cell_type": "code",
      "metadata": {
        "id": "WI87Gptw-tBA",
        "outputId": "caf6945a-a6d2-4ba3-e997-0974ccfe347f",
        "colab": {
          "base_uri": "https://localhost:8080/",
          "height": 34
        }
      },
      "source": [
        "top_fs_int(10)"
      ],
      "execution_count": null,
      "outputs": [
        {
          "output_type": "execute_result",
          "data": {
            "text/plain": [
              "array(['age', 'ca', 'cp', 'oldpeak', 'thalach'], dtype=object)"
            ]
          },
          "metadata": {
            "tags": []
          },
          "execution_count": 20
        }
      ]
    },
    {
      "cell_type": "markdown",
      "metadata": {
        "id": "mp-aBARIN7jf"
      },
      "source": [
        "#Union Check"
      ]
    },
    {
      "cell_type": "code",
      "metadata": {
        "id": "tpjyjsRd-tBJ"
      },
      "source": [
        "def top_fs_union(n):\n",
        "    f1 = ft1[:n]\n",
        "    f2 = ft2[:n]\n",
        "    f3 = ft3[:n]\n",
        "    return(reduce(np.union1d, (f1,f2,f3)))"
      ],
      "execution_count": null,
      "outputs": []
    },
    {
      "cell_type": "markdown",
      "metadata": {
        "id": "szoD6cP2N_0X"
      },
      "source": [
        "#Assemble Run"
      ]
    },
    {
      "cell_type": "markdown",
      "metadata": {
        "id": "RjzgEf7qOEf8"
      },
      "source": [
        "*Split data*"
      ]
    },
    {
      "cell_type": "code",
      "metadata": {
        "id": "Vl_pRfbA-tBO"
      },
      "source": [
        "def assemble_run(n,classifier,test_size):\n",
        "  top_fs=top_fs_union(n)\n",
        "  top_fs=np.append(top_fs,['target'], axis=0)\n",
        "  dfs = data.loc[:,top_fs]\n",
        "  X = dfs.drop(['target'], axis=1)\n",
        "  y = dfs['target']\n",
        "  from sklearn.model_selection import train_test_split\n",
        "  x_train, x_test, y_train, y_test = train_test_split(X,y,test_size=test_size)\n",
        "  if classifier==SVC:\n",
        "      model = SVC(kernel='linear', class_weight='balanced')\n",
        "      #print ('a')\n",
        "  else:    \n",
        "    model = classifier()\n",
        "  model.fit(x_train, y_train)\n",
        "  print (model.score(x_test,y_test))"
      ],
      "execution_count": null,
      "outputs": []
    },
    {
      "cell_type": "markdown",
      "metadata": {
        "id": "EfGOWVzBOHMS"
      },
      "source": [
        "*Cross Validation Run*"
      ]
    },
    {
      "cell_type": "code",
      "metadata": {
        "id": "NOLPAYE-Gu_G"
      },
      "source": [
        "def assemble_run(n,classifier):\n",
        "  top_fs=top_fs_union(n)\n",
        "  top_fs=np.append(top_fs,['target'], axis=0)\n",
        "  dfs = data.loc[:,top_fs]\n",
        "  X = dfs.drop(['target'], axis=1)\n",
        "  y = dfs['target']\n",
        "  if classifier==SVC:\n",
        "      model = SVC(kernel='linear', class_weight='balanced')\n",
        "  elif classifier==KNeighborsClassifier:\n",
        "    df_model = dfs.copy()\n",
        "    #Rescaling features age, trestbps, chol, thalach, oldpeak.\n",
        "    scaler = StandardScaler()\n",
        "    features = [['age', 'trestbps', 'chol', 'thalach', 'oldpeak']]\n",
        "    for feature in features:\n",
        "      df_model[feature] = scaler.fit_transform(df_model[feature])    \n",
        "    #Create x and y variable\n",
        "    X = df_model.drop(columns=['target'])\n",
        "    y = df_model['target']  \n",
        "    model = classifier()  \n",
        "  else:    \n",
        "    model = classifier()\n",
        "  cv = KFold(n_splits=10, random_state=1, shuffle=True)\n",
        "  scores = cross_val_score(model, X, y, scoring='accuracy', cv=cv, n_jobs=-1)\n",
        "  print('Accuracy 10 fold: %.4f (%.3f)' % (mean(scores)*100, std(scores)))\n"
      ],
      "execution_count": null,
      "outputs": []
    },
    {
      "cell_type": "code",
      "metadata": {
        "id": "y4QTr-u3-tBS",
        "outputId": "c94dfb06-c903-46e1-f3ab-08b6d62f8181",
        "colab": {
          "base_uri": "https://localhost:8080/",
          "height": 68
        }
      },
      "source": [
        "#SUPPORT VECTOR MACHINE\n",
        "\n",
        "#Feature Subset by Union of 5 Best Features from each\n",
        "SVM1 = assemble_run(5,SVC)\n",
        "#Feature Subset by Union of 7 Best Features from each\n",
        "SVM1 = assemble_run(7,SVC)\n",
        "#Feature Subset by Union of 10 Best Features from each\n",
        "SVM2 = assemble_run(10,SVC)\n"
      ],
      "execution_count": null,
      "outputs": [
        {
          "output_type": "stream",
          "text": [
            "Accuracy 10 fold: 82.5591 (0.084)\n",
            "Accuracy 10 fold: 82.5591 (0.084)\n",
            "Accuracy 10 fold: 81.8817 (0.086)\n"
          ],
          "name": "stdout"
        }
      ]
    },
    {
      "cell_type": "code",
      "metadata": {
        "id": "NbosarZ1-tBb",
        "outputId": "12add459-8615-4640-ecbf-a04a15006ffd",
        "colab": {
          "base_uri": "https://localhost:8080/",
          "height": 68
        }
      },
      "source": [
        "#RANDOM FOREST CLASSIFIER\n",
        "\n",
        "#Feature Subset by Union of 5 Best Features from each\n",
        "RFC1 = assemble_run(5,RandomForestClassifier)\n",
        "#Feature Subset by Union of 7 Best Features from each\n",
        "RFC2 = assemble_run(7,RandomForestClassifier)\n",
        "#Feature Subset by Union of 10 Best Features from each\n",
        "RFC3 = assemble_run(10,RandomForestClassifier)\n"
      ],
      "execution_count": null,
      "outputs": [
        {
          "output_type": "stream",
          "text": [
            "Accuracy 10 fold: 81.2473 (0.108)\n",
            "Accuracy 10 fold: 80.5591 (0.102)\n",
            "Accuracy 10 fold: 82.8925 (0.095)\n"
          ],
          "name": "stdout"
        }
      ]
    },
    {
      "cell_type": "code",
      "metadata": {
        "id": "Ewio6M2AQgkb",
        "outputId": "7c61a6cc-cc7b-4366-afcb-a6395da553e4",
        "colab": {
          "base_uri": "https://localhost:8080/",
          "height": 68
        }
      },
      "source": [
        "#MLP CLASSIFIER\n",
        "\n",
        "#Feature Subset by Union of 5 Best Features from each\n",
        "MLP1 = assemble_run(5,MLPClassifier)\n",
        "#Feature Subset by Union of 7 Best Features from each\n",
        "MLP2 = assemble_run(7,MLPClassifier)\n",
        "#Feature Subset by Union of 10 Best Features from each\n",
        "MLP3 = assemble_run(10,MLPClassifier)\n"
      ],
      "execution_count": null,
      "outputs": [
        {
          "output_type": "stream",
          "text": [
            "Accuracy 10 fold: 78.5806 (0.077)\n",
            "Accuracy 10 fold: 79.2581 (0.086)\n",
            "Accuracy 10 fold: 83.1935 (0.079)\n"
          ],
          "name": "stdout"
        }
      ]
    },
    {
      "cell_type": "code",
      "metadata": {
        "id": "mTzit8-s-tBf",
        "outputId": "356ac9a3-83d2-4bde-e809-d16fdaadfc65",
        "colab": {
          "base_uri": "https://localhost:8080/",
          "height": 68
        }
      },
      "source": [
        "#XG BOOST CLASSIFIER\n",
        "#Feature Subset by Union of 5 Best Features from each\n",
        "XGB1 = assemble_run(5,XGBClassifier)\n",
        "#Feature Subset by Union of 7 Best Features from each\n",
        "XGB2 = assemble_run(7,XGBClassifier)\n",
        "#Feature Subset by Union of 10 Best Features from each\n",
        "XGB3 = assemble_run(10,XGBClassifier)"
      ],
      "execution_count": null,
      "outputs": [
        {
          "output_type": "stream",
          "text": [
            "Accuracy 10 fold: 79.9032 (0.084)\n",
            "Accuracy 10 fold: 79.9032 (0.084)\n",
            "Accuracy 10 fold: 80.5376 (0.081)\n"
          ],
          "name": "stdout"
        }
      ]
    },
    {
      "cell_type": "code",
      "metadata": {
        "id": "vPAf2FUsIKaD",
        "outputId": "66982270-fd03-4104-9d4a-821fa3d2074d",
        "colab": {
          "base_uri": "https://localhost:8080/",
          "height": 85
        }
      },
      "source": [
        "#KNN CLASSIFIER\n",
        "from sklearn.preprocessing import StandardScaler\n",
        "#Feature Subset by Union of 5 Best Features from each\n",
        "KNN1 = assemble_run(5,KNeighborsClassifier)\n",
        "#Feature Subset by Union of 7 Best Features from each\n",
        "KNN2 = assemble_run(7,KNeighborsClassifier)\n",
        "#Feature Subset by Union of 10 Best Features from each\n",
        "KNN3 = assemble_run(10,KNeighborsClassifier)\n",
        "KNN3 = assemble_run(13,KNeighborsClassifier)\n",
        "\n"
      ],
      "execution_count": null,
      "outputs": [
        {
          "output_type": "stream",
          "text": [
            "Accuracy 10 fold: 79.5914 (0.094)\n",
            "Accuracy 10 fold: 79.5914 (0.094)\n",
            "Accuracy 10 fold: 81.5806 (0.083)\n",
            "Accuracy 10 fold: 81.5806 (0.083)\n"
          ],
          "name": "stdout"
        }
      ]
    },
    {
      "cell_type": "markdown",
      "metadata": {
        "id": "c6WqowhQOQJL"
      },
      "source": [
        "https://medium.com/datadriveninvestor/increase-10-accuracy-with-re-scaling-features-in-k-nearest-neighbors-python-code-677d28032a45#:~:text=From%20what%20we%20have%20done,based%20algorithms%20such%20as%20KNN.\n"
      ]
    }
  ]
}