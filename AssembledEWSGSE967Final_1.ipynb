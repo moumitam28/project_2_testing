{
  "nbformat": 4,
  "nbformat_minor": 0,
  "metadata": {
    "kernelspec": {
      "display_name": "Python 3",
      "language": "python",
      "name": "python3"
    },
    "language_info": {
      "codemirror_mode": {
        "name": "ipython",
        "version": 3
      },
      "file_extension": ".py",
      "mimetype": "text/x-python",
      "name": "python",
      "nbconvert_exporter": "python",
      "pygments_lexer": "ipython3",
      "version": "3.8.3"
    },
    "colab": {
      "name": "AssembledEWSGSE967Final_1.ipynb",
      "provenance": []
    }
  },
  "cells": [
    {
      "cell_type": "code",
      "metadata": {
        "id": "j_xfO71slDhv",
        "outputId": "34f5f4c0-ca38-43eb-fd0e-4c704789b34b"
      },
      "source": [
        "import pandas as pd\n",
        "import numpy as np\n",
        "import matplotlib.pyplot as plt\n",
        "import seaborn as sns\n",
        "\n",
        "data = pd.read_csv('EWSGSE967.txt')\n",
        "data.head()"
      ],
      "execution_count": null,
      "outputs": [
        {
          "output_type": "execute_result",
          "data": {
            "text/html": [
              "<div>\n",
              "<style scoped>\n",
              "    .dataframe tbody tr th:only-of-type {\n",
              "        vertical-align: middle;\n",
              "    }\n",
              "\n",
              "    .dataframe tbody tr th {\n",
              "        vertical-align: top;\n",
              "    }\n",
              "\n",
              "    .dataframe thead th {\n",
              "        text-align: right;\n",
              "    }\n",
              "</style>\n",
              "<table border=\"1\" class=\"dataframe\">\n",
              "  <thead>\n",
              "    <tr style=\"text-align: right;\">\n",
              "      <th></th>\n",
              "      <th>31307_at</th>\n",
              "      <th>31309_r_at</th>\n",
              "      <th>31313_at</th>\n",
              "      <th>31314_at</th>\n",
              "      <th>31315_at</th>\n",
              "      <th>31316_at</th>\n",
              "      <th>31317_r_at</th>\n",
              "      <th>31320_at</th>\n",
              "      <th>31321_at</th>\n",
              "      <th>31322_at</th>\n",
              "      <th>...</th>\n",
              "      <th>102_at</th>\n",
              "      <th>103_at</th>\n",
              "      <th>104_at</th>\n",
              "      <th>105_at</th>\n",
              "      <th>106_at</th>\n",
              "      <th>107_at</th>\n",
              "      <th>108_g_at</th>\n",
              "      <th>109_at</th>\n",
              "      <th>class</th>\n",
              "      <th>sample</th>\n",
              "    </tr>\n",
              "  </thead>\n",
              "  <tbody>\n",
              "    <tr>\n",
              "      <th>0</th>\n",
              "      <td>c</td>\n",
              "      <td>c</td>\n",
              "      <td>c</td>\n",
              "      <td>c</td>\n",
              "      <td>c</td>\n",
              "      <td>c</td>\n",
              "      <td>c</td>\n",
              "      <td>c</td>\n",
              "      <td>c</td>\n",
              "      <td>c</td>\n",
              "      <td>...</td>\n",
              "      <td>c</td>\n",
              "      <td>c</td>\n",
              "      <td>c</td>\n",
              "      <td>c</td>\n",
              "      <td>c</td>\n",
              "      <td>c</td>\n",
              "      <td>c</td>\n",
              "      <td>c</td>\n",
              "      <td>d</td>\n",
              "      <td>string</td>\n",
              "    </tr>\n",
              "    <tr>\n",
              "      <th>1</th>\n",
              "      <td>NaN</td>\n",
              "      <td>NaN</td>\n",
              "      <td>NaN</td>\n",
              "      <td>NaN</td>\n",
              "      <td>NaN</td>\n",
              "      <td>NaN</td>\n",
              "      <td>NaN</td>\n",
              "      <td>NaN</td>\n",
              "      <td>NaN</td>\n",
              "      <td>NaN</td>\n",
              "      <td>...</td>\n",
              "      <td>NaN</td>\n",
              "      <td>NaN</td>\n",
              "      <td>NaN</td>\n",
              "      <td>NaN</td>\n",
              "      <td>NaN</td>\n",
              "      <td>NaN</td>\n",
              "      <td>NaN</td>\n",
              "      <td>NaN</td>\n",
              "      <td>class</td>\n",
              "      <td>meta</td>\n",
              "    </tr>\n",
              "    <tr>\n",
              "      <th>2</th>\n",
              "      <td>10</td>\n",
              "      <td>10</td>\n",
              "      <td>206.7</td>\n",
              "      <td>217.3</td>\n",
              "      <td>95</td>\n",
              "      <td>1590.1</td>\n",
              "      <td>10</td>\n",
              "      <td>1112.9</td>\n",
              "      <td>118.2</td>\n",
              "      <td>10</td>\n",
              "      <td>...</td>\n",
              "      <td>414.8</td>\n",
              "      <td>672.9</td>\n",
              "      <td>10</td>\n",
              "      <td>5141.4</td>\n",
              "      <td>57.9</td>\n",
              "      <td>10</td>\n",
              "      <td>2595.3</td>\n",
              "      <td>1340.2</td>\n",
              "      <td>EWS</td>\n",
              "      <td>EWS</td>\n",
              "    </tr>\n",
              "    <tr>\n",
              "      <th>3</th>\n",
              "      <td>10</td>\n",
              "      <td>10</td>\n",
              "      <td>10</td>\n",
              "      <td>10</td>\n",
              "      <td>289.1</td>\n",
              "      <td>10</td>\n",
              "      <td>2350.7</td>\n",
              "      <td>207.4</td>\n",
              "      <td>456.3</td>\n",
              "      <td>402.9</td>\n",
              "      <td>...</td>\n",
              "      <td>315.3</td>\n",
              "      <td>1458</td>\n",
              "      <td>10</td>\n",
              "      <td>530.7</td>\n",
              "      <td>1618.1</td>\n",
              "      <td>55.5</td>\n",
              "      <td>567.4</td>\n",
              "      <td>2517.4</td>\n",
              "      <td>EWS</td>\n",
              "      <td>EWS</td>\n",
              "    </tr>\n",
              "    <tr>\n",
              "      <th>4</th>\n",
              "      <td>10</td>\n",
              "      <td>10</td>\n",
              "      <td>10</td>\n",
              "      <td>10</td>\n",
              "      <td>606.2</td>\n",
              "      <td>316.1</td>\n",
              "      <td>1061.9</td>\n",
              "      <td>10</td>\n",
              "      <td>488.2</td>\n",
              "      <td>98.1</td>\n",
              "      <td>...</td>\n",
              "      <td>814.4</td>\n",
              "      <td>1189.7</td>\n",
              "      <td>97.9</td>\n",
              "      <td>431.2</td>\n",
              "      <td>2856.7</td>\n",
              "      <td>10</td>\n",
              "      <td>10</td>\n",
              "      <td>3572.6</td>\n",
              "      <td>EWS</td>\n",
              "      <td>EWS</td>\n",
              "    </tr>\n",
              "  </tbody>\n",
              "</table>\n",
              "<p>5 rows × 9947 columns</p>\n",
              "</div>"
            ],
            "text/plain": [
              "  31307_at 31309_r_at 31313_at 31314_at 31315_at 31316_at 31317_r_at 31320_at  \\\n",
              "0        c          c        c        c        c        c          c        c   \n",
              "1      NaN        NaN      NaN      NaN      NaN      NaN        NaN      NaN   \n",
              "2       10         10    206.7    217.3       95   1590.1         10   1112.9   \n",
              "3       10         10       10       10    289.1       10     2350.7    207.4   \n",
              "4       10         10       10       10    606.2    316.1     1061.9       10   \n",
              "\n",
              "  31321_at 31322_at  ... 102_at  103_at 104_at  105_at  106_at 107_at  \\\n",
              "0        c        c  ...      c       c      c       c       c      c   \n",
              "1      NaN      NaN  ...    NaN     NaN    NaN     NaN     NaN    NaN   \n",
              "2    118.2       10  ...  414.8   672.9     10  5141.4    57.9     10   \n",
              "3    456.3    402.9  ...  315.3    1458     10   530.7  1618.1   55.5   \n",
              "4    488.2     98.1  ...  814.4  1189.7   97.9   431.2  2856.7     10   \n",
              "\n",
              "  108_g_at  109_at  class  sample  \n",
              "0        c       c      d  string  \n",
              "1      NaN     NaN  class    meta  \n",
              "2   2595.3  1340.2    EWS     EWS  \n",
              "3    567.4  2517.4    EWS     EWS  \n",
              "4       10  3572.6    EWS     EWS  \n",
              "\n",
              "[5 rows x 9947 columns]"
            ]
          },
          "metadata": {
            "tags": []
          },
          "execution_count": 2
        }
      ]
    },
    {
      "cell_type": "code",
      "metadata": {
        "id": "JjJmTenslDh4",
        "outputId": "9945af70-37df-415a-8c1d-089832108877"
      },
      "source": [
        "data = data.drop(data.index[[0,1]])\n",
        "data = data.drop(['sample'], axis=1)\n",
        "data.index=range(0,len(data),1)\n",
        "data.head()"
      ],
      "execution_count": null,
      "outputs": [
        {
          "output_type": "execute_result",
          "data": {
            "text/html": [
              "<div>\n",
              "<style scoped>\n",
              "    .dataframe tbody tr th:only-of-type {\n",
              "        vertical-align: middle;\n",
              "    }\n",
              "\n",
              "    .dataframe tbody tr th {\n",
              "        vertical-align: top;\n",
              "    }\n",
              "\n",
              "    .dataframe thead th {\n",
              "        text-align: right;\n",
              "    }\n",
              "</style>\n",
              "<table border=\"1\" class=\"dataframe\">\n",
              "  <thead>\n",
              "    <tr style=\"text-align: right;\">\n",
              "      <th></th>\n",
              "      <th>31307_at</th>\n",
              "      <th>31309_r_at</th>\n",
              "      <th>31313_at</th>\n",
              "      <th>31314_at</th>\n",
              "      <th>31315_at</th>\n",
              "      <th>31316_at</th>\n",
              "      <th>31317_r_at</th>\n",
              "      <th>31320_at</th>\n",
              "      <th>31321_at</th>\n",
              "      <th>31322_at</th>\n",
              "      <th>...</th>\n",
              "      <th>101_at</th>\n",
              "      <th>102_at</th>\n",
              "      <th>103_at</th>\n",
              "      <th>104_at</th>\n",
              "      <th>105_at</th>\n",
              "      <th>106_at</th>\n",
              "      <th>107_at</th>\n",
              "      <th>108_g_at</th>\n",
              "      <th>109_at</th>\n",
              "      <th>class</th>\n",
              "    </tr>\n",
              "  </thead>\n",
              "  <tbody>\n",
              "    <tr>\n",
              "      <th>0</th>\n",
              "      <td>10</td>\n",
              "      <td>10</td>\n",
              "      <td>206.7</td>\n",
              "      <td>217.3</td>\n",
              "      <td>95</td>\n",
              "      <td>1590.1</td>\n",
              "      <td>10</td>\n",
              "      <td>1112.9</td>\n",
              "      <td>118.2</td>\n",
              "      <td>10</td>\n",
              "      <td>...</td>\n",
              "      <td>226.2</td>\n",
              "      <td>414.8</td>\n",
              "      <td>672.9</td>\n",
              "      <td>10</td>\n",
              "      <td>5141.4</td>\n",
              "      <td>57.9</td>\n",
              "      <td>10</td>\n",
              "      <td>2595.3</td>\n",
              "      <td>1340.2</td>\n",
              "      <td>EWS</td>\n",
              "    </tr>\n",
              "    <tr>\n",
              "      <th>1</th>\n",
              "      <td>10</td>\n",
              "      <td>10</td>\n",
              "      <td>10</td>\n",
              "      <td>10</td>\n",
              "      <td>289.1</td>\n",
              "      <td>10</td>\n",
              "      <td>2350.7</td>\n",
              "      <td>207.4</td>\n",
              "      <td>456.3</td>\n",
              "      <td>402.9</td>\n",
              "      <td>...</td>\n",
              "      <td>1597.2</td>\n",
              "      <td>315.3</td>\n",
              "      <td>1458</td>\n",
              "      <td>10</td>\n",
              "      <td>530.7</td>\n",
              "      <td>1618.1</td>\n",
              "      <td>55.5</td>\n",
              "      <td>567.4</td>\n",
              "      <td>2517.4</td>\n",
              "      <td>EWS</td>\n",
              "    </tr>\n",
              "    <tr>\n",
              "      <th>2</th>\n",
              "      <td>10</td>\n",
              "      <td>10</td>\n",
              "      <td>10</td>\n",
              "      <td>10</td>\n",
              "      <td>606.2</td>\n",
              "      <td>316.1</td>\n",
              "      <td>1061.9</td>\n",
              "      <td>10</td>\n",
              "      <td>488.2</td>\n",
              "      <td>98.1</td>\n",
              "      <td>...</td>\n",
              "      <td>318.6</td>\n",
              "      <td>814.4</td>\n",
              "      <td>1189.7</td>\n",
              "      <td>97.9</td>\n",
              "      <td>431.2</td>\n",
              "      <td>2856.7</td>\n",
              "      <td>10</td>\n",
              "      <td>10</td>\n",
              "      <td>3572.6</td>\n",
              "      <td>EWS</td>\n",
              "    </tr>\n",
              "    <tr>\n",
              "      <th>3</th>\n",
              "      <td>10</td>\n",
              "      <td>124</td>\n",
              "      <td>10</td>\n",
              "      <td>174.7</td>\n",
              "      <td>331.8</td>\n",
              "      <td>253.3</td>\n",
              "      <td>1227.3</td>\n",
              "      <td>372.7</td>\n",
              "      <td>462.1</td>\n",
              "      <td>10</td>\n",
              "      <td>...</td>\n",
              "      <td>734.5</td>\n",
              "      <td>10</td>\n",
              "      <td>1692</td>\n",
              "      <td>338.4</td>\n",
              "      <td>10</td>\n",
              "      <td>7958.5</td>\n",
              "      <td>481.1</td>\n",
              "      <td>10</td>\n",
              "      <td>2695.1</td>\n",
              "      <td>EWS</td>\n",
              "    </tr>\n",
              "    <tr>\n",
              "      <th>4</th>\n",
              "      <td>10</td>\n",
              "      <td>10</td>\n",
              "      <td>10</td>\n",
              "      <td>74.9</td>\n",
              "      <td>10</td>\n",
              "      <td>10</td>\n",
              "      <td>1719.8</td>\n",
              "      <td>10</td>\n",
              "      <td>748.5</td>\n",
              "      <td>245.7</td>\n",
              "      <td>...</td>\n",
              "      <td>10</td>\n",
              "      <td>403.5</td>\n",
              "      <td>2527.6</td>\n",
              "      <td>518.1</td>\n",
              "      <td>10</td>\n",
              "      <td>1772.2</td>\n",
              "      <td>933.2</td>\n",
              "      <td>10</td>\n",
              "      <td>1754.4</td>\n",
              "      <td>EWS</td>\n",
              "    </tr>\n",
              "  </tbody>\n",
              "</table>\n",
              "<p>5 rows × 9946 columns</p>\n",
              "</div>"
            ],
            "text/plain": [
              "  31307_at 31309_r_at 31313_at 31314_at 31315_at 31316_at 31317_r_at 31320_at  \\\n",
              "0       10         10    206.7    217.3       95   1590.1         10   1112.9   \n",
              "1       10         10       10       10    289.1       10     2350.7    207.4   \n",
              "2       10         10       10       10    606.2    316.1     1061.9       10   \n",
              "3       10        124       10    174.7    331.8    253.3     1227.3    372.7   \n",
              "4       10         10       10     74.9       10       10     1719.8       10   \n",
              "\n",
              "  31321_at 31322_at  ...  101_at 102_at  103_at 104_at  105_at  106_at 107_at  \\\n",
              "0    118.2       10  ...   226.2  414.8   672.9     10  5141.4    57.9     10   \n",
              "1    456.3    402.9  ...  1597.2  315.3    1458     10   530.7  1618.1   55.5   \n",
              "2    488.2     98.1  ...   318.6  814.4  1189.7   97.9   431.2  2856.7     10   \n",
              "3    462.1       10  ...   734.5     10    1692  338.4      10  7958.5  481.1   \n",
              "4    748.5    245.7  ...      10  403.5  2527.6  518.1      10  1772.2  933.2   \n",
              "\n",
              "  108_g_at  109_at class  \n",
              "0   2595.3  1340.2   EWS  \n",
              "1    567.4  2517.4   EWS  \n",
              "2       10  3572.6   EWS  \n",
              "3       10  2695.1   EWS  \n",
              "4       10  1754.4   EWS  \n",
              "\n",
              "[5 rows x 9946 columns]"
            ]
          },
          "metadata": {
            "tags": []
          },
          "execution_count": 3
        }
      ]
    },
    {
      "cell_type": "code",
      "metadata": {
        "id": "rCp0I4pmlDh-",
        "outputId": "fc2cd44c-d52d-47d8-bdee-2ff357c97a09"
      },
      "source": [
        "data.dropna()\n",
        "data.isnull().sum()"
      ],
      "execution_count": null,
      "outputs": [
        {
          "output_type": "execute_result",
          "data": {
            "text/plain": [
              "31307_at      0\n",
              "31309_r_at    0\n",
              "31313_at      0\n",
              "31314_at      0\n",
              "31315_at      0\n",
              "             ..\n",
              "106_at        0\n",
              "107_at        0\n",
              "108_g_at      0\n",
              "109_at        0\n",
              "class         0\n",
              "Length: 9946, dtype: int64"
            ]
          },
          "metadata": {
            "tags": []
          },
          "execution_count": 4
        }
      ]
    },
    {
      "cell_type": "code",
      "metadata": {
        "id": "NWvn55gflDiF",
        "outputId": "3850d56e-71dd-4dfe-f0d6-94718efddb4f"
      },
      "source": [
        "dict = {\n",
        "    'class':{\n",
        "        'EWS':0,\n",
        "        'RMS':1\n",
        "    }\n",
        "}   \n",
        "data=data.replace(dict)\n",
        "data.head()\n"
      ],
      "execution_count": null,
      "outputs": [
        {
          "output_type": "execute_result",
          "data": {
            "text/html": [
              "<div>\n",
              "<style scoped>\n",
              "    .dataframe tbody tr th:only-of-type {\n",
              "        vertical-align: middle;\n",
              "    }\n",
              "\n",
              "    .dataframe tbody tr th {\n",
              "        vertical-align: top;\n",
              "    }\n",
              "\n",
              "    .dataframe thead th {\n",
              "        text-align: right;\n",
              "    }\n",
              "</style>\n",
              "<table border=\"1\" class=\"dataframe\">\n",
              "  <thead>\n",
              "    <tr style=\"text-align: right;\">\n",
              "      <th></th>\n",
              "      <th>31307_at</th>\n",
              "      <th>31309_r_at</th>\n",
              "      <th>31313_at</th>\n",
              "      <th>31314_at</th>\n",
              "      <th>31315_at</th>\n",
              "      <th>31316_at</th>\n",
              "      <th>31317_r_at</th>\n",
              "      <th>31320_at</th>\n",
              "      <th>31321_at</th>\n",
              "      <th>31322_at</th>\n",
              "      <th>...</th>\n",
              "      <th>101_at</th>\n",
              "      <th>102_at</th>\n",
              "      <th>103_at</th>\n",
              "      <th>104_at</th>\n",
              "      <th>105_at</th>\n",
              "      <th>106_at</th>\n",
              "      <th>107_at</th>\n",
              "      <th>108_g_at</th>\n",
              "      <th>109_at</th>\n",
              "      <th>class</th>\n",
              "    </tr>\n",
              "  </thead>\n",
              "  <tbody>\n",
              "    <tr>\n",
              "      <th>0</th>\n",
              "      <td>10</td>\n",
              "      <td>10</td>\n",
              "      <td>206.7</td>\n",
              "      <td>217.3</td>\n",
              "      <td>95</td>\n",
              "      <td>1590.1</td>\n",
              "      <td>10</td>\n",
              "      <td>1112.9</td>\n",
              "      <td>118.2</td>\n",
              "      <td>10</td>\n",
              "      <td>...</td>\n",
              "      <td>226.2</td>\n",
              "      <td>414.8</td>\n",
              "      <td>672.9</td>\n",
              "      <td>10</td>\n",
              "      <td>5141.4</td>\n",
              "      <td>57.9</td>\n",
              "      <td>10</td>\n",
              "      <td>2595.3</td>\n",
              "      <td>1340.2</td>\n",
              "      <td>0</td>\n",
              "    </tr>\n",
              "    <tr>\n",
              "      <th>1</th>\n",
              "      <td>10</td>\n",
              "      <td>10</td>\n",
              "      <td>10</td>\n",
              "      <td>10</td>\n",
              "      <td>289.1</td>\n",
              "      <td>10</td>\n",
              "      <td>2350.7</td>\n",
              "      <td>207.4</td>\n",
              "      <td>456.3</td>\n",
              "      <td>402.9</td>\n",
              "      <td>...</td>\n",
              "      <td>1597.2</td>\n",
              "      <td>315.3</td>\n",
              "      <td>1458</td>\n",
              "      <td>10</td>\n",
              "      <td>530.7</td>\n",
              "      <td>1618.1</td>\n",
              "      <td>55.5</td>\n",
              "      <td>567.4</td>\n",
              "      <td>2517.4</td>\n",
              "      <td>0</td>\n",
              "    </tr>\n",
              "    <tr>\n",
              "      <th>2</th>\n",
              "      <td>10</td>\n",
              "      <td>10</td>\n",
              "      <td>10</td>\n",
              "      <td>10</td>\n",
              "      <td>606.2</td>\n",
              "      <td>316.1</td>\n",
              "      <td>1061.9</td>\n",
              "      <td>10</td>\n",
              "      <td>488.2</td>\n",
              "      <td>98.1</td>\n",
              "      <td>...</td>\n",
              "      <td>318.6</td>\n",
              "      <td>814.4</td>\n",
              "      <td>1189.7</td>\n",
              "      <td>97.9</td>\n",
              "      <td>431.2</td>\n",
              "      <td>2856.7</td>\n",
              "      <td>10</td>\n",
              "      <td>10</td>\n",
              "      <td>3572.6</td>\n",
              "      <td>0</td>\n",
              "    </tr>\n",
              "    <tr>\n",
              "      <th>3</th>\n",
              "      <td>10</td>\n",
              "      <td>124</td>\n",
              "      <td>10</td>\n",
              "      <td>174.7</td>\n",
              "      <td>331.8</td>\n",
              "      <td>253.3</td>\n",
              "      <td>1227.3</td>\n",
              "      <td>372.7</td>\n",
              "      <td>462.1</td>\n",
              "      <td>10</td>\n",
              "      <td>...</td>\n",
              "      <td>734.5</td>\n",
              "      <td>10</td>\n",
              "      <td>1692</td>\n",
              "      <td>338.4</td>\n",
              "      <td>10</td>\n",
              "      <td>7958.5</td>\n",
              "      <td>481.1</td>\n",
              "      <td>10</td>\n",
              "      <td>2695.1</td>\n",
              "      <td>0</td>\n",
              "    </tr>\n",
              "    <tr>\n",
              "      <th>4</th>\n",
              "      <td>10</td>\n",
              "      <td>10</td>\n",
              "      <td>10</td>\n",
              "      <td>74.9</td>\n",
              "      <td>10</td>\n",
              "      <td>10</td>\n",
              "      <td>1719.8</td>\n",
              "      <td>10</td>\n",
              "      <td>748.5</td>\n",
              "      <td>245.7</td>\n",
              "      <td>...</td>\n",
              "      <td>10</td>\n",
              "      <td>403.5</td>\n",
              "      <td>2527.6</td>\n",
              "      <td>518.1</td>\n",
              "      <td>10</td>\n",
              "      <td>1772.2</td>\n",
              "      <td>933.2</td>\n",
              "      <td>10</td>\n",
              "      <td>1754.4</td>\n",
              "      <td>0</td>\n",
              "    </tr>\n",
              "  </tbody>\n",
              "</table>\n",
              "<p>5 rows × 9946 columns</p>\n",
              "</div>"
            ],
            "text/plain": [
              "  31307_at 31309_r_at 31313_at 31314_at 31315_at 31316_at 31317_r_at 31320_at  \\\n",
              "0       10         10    206.7    217.3       95   1590.1         10   1112.9   \n",
              "1       10         10       10       10    289.1       10     2350.7    207.4   \n",
              "2       10         10       10       10    606.2    316.1     1061.9       10   \n",
              "3       10        124       10    174.7    331.8    253.3     1227.3    372.7   \n",
              "4       10         10       10     74.9       10       10     1719.8       10   \n",
              "\n",
              "  31321_at 31322_at  ...  101_at 102_at  103_at 104_at  105_at  106_at 107_at  \\\n",
              "0    118.2       10  ...   226.2  414.8   672.9     10  5141.4    57.9     10   \n",
              "1    456.3    402.9  ...  1597.2  315.3    1458     10   530.7  1618.1   55.5   \n",
              "2    488.2     98.1  ...   318.6  814.4  1189.7   97.9   431.2  2856.7     10   \n",
              "3    462.1       10  ...   734.5     10    1692  338.4      10  7958.5  481.1   \n",
              "4    748.5    245.7  ...      10  403.5  2527.6  518.1      10  1772.2  933.2   \n",
              "\n",
              "  108_g_at  109_at class  \n",
              "0   2595.3  1340.2     0  \n",
              "1    567.4  2517.4     0  \n",
              "2       10  3572.6     0  \n",
              "3       10  2695.1     0  \n",
              "4       10  1754.4     0  \n",
              "\n",
              "[5 rows x 9946 columns]"
            ]
          },
          "metadata": {
            "tags": []
          },
          "execution_count": 5
        }
      ]
    },
    {
      "cell_type": "code",
      "metadata": {
        "id": "xdRTv-dylDiL"
      },
      "source": [
        "X = data.drop(['class'], axis=1)\n",
        "y = data['class']"
      ],
      "execution_count": null,
      "outputs": []
    },
    {
      "cell_type": "code",
      "metadata": {
        "id": "RBLfcEvDlDiQ",
        "outputId": "17488148-f8e4-4b0d-b371-881125766cb0"
      },
      "source": [
        "from sklearn.model_selection import train_test_split\n",
        "x_train, x_test, y_train, y_test = train_test_split(X,y,test_size=0.5)\n",
        "print(len(x_train),len(x_test),len(y_train),len(y_test))"
      ],
      "execution_count": null,
      "outputs": [
        {
          "output_type": "stream",
          "text": [
            "11 12 11 12\n"
          ],
          "name": "stdout"
        }
      ]
    },
    {
      "cell_type": "code",
      "metadata": {
        "id": "kVuhFHnnlDiX",
        "outputId": "0fa663d3-32a4-4d00-bd54-5d1fd4c7f390"
      },
      "source": [
        "from sklearn.svm import SVC\n",
        "model1=SVC()\n",
        "model1.fit(x_train, y_train)\n",
        "model1.score(x_test,y_test)"
      ],
      "execution_count": null,
      "outputs": [
        {
          "output_type": "execute_result",
          "data": {
            "text/plain": [
              "0.5833333333333334"
            ]
          },
          "metadata": {
            "tags": []
          },
          "execution_count": 8
        }
      ]
    },
    {
      "cell_type": "code",
      "metadata": {
        "id": "ROn_UP1ylDig",
        "outputId": "2f645fd3-31f8-466a-9ead-a70d89f552bb"
      },
      "source": [
        "from sklearn.naive_bayes import GaussianNB\n",
        "model2=GaussianNB()\n",
        "model2.fit(x_train, y_train)\n",
        "model2.score(x_test, y_test)"
      ],
      "execution_count": null,
      "outputs": [
        {
          "output_type": "execute_result",
          "data": {
            "text/plain": [
              "0.5"
            ]
          },
          "metadata": {
            "tags": []
          },
          "execution_count": 9
        }
      ]
    },
    {
      "cell_type": "code",
      "metadata": {
        "id": "nV0BrPgKlDil",
        "outputId": "44b07bf3-8676-4849-82d7-20e42c225201"
      },
      "source": [
        "from sklearn.tree import DecisionTreeClassifier\n",
        "model3 = DecisionTreeClassifier()\n",
        "model3.fit(x_train, y_train)\n",
        "model3.score(x_test, y_test)"
      ],
      "execution_count": null,
      "outputs": [
        {
          "output_type": "execute_result",
          "data": {
            "text/plain": [
              "0.5833333333333334"
            ]
          },
          "metadata": {
            "tags": []
          },
          "execution_count": 10
        }
      ]
    },
    {
      "cell_type": "code",
      "metadata": {
        "id": "qsZdGar8lDiq",
        "outputId": "def91782-098f-4a79-e415-b08878db1da4"
      },
      "source": [
        "from sklearn.neighbors import KNeighborsClassifier\n",
        "model4 = KNeighborsClassifier()\n",
        "model4.fit(x_train, y_train)\n",
        "model4.score(x_test,y_test)"
      ],
      "execution_count": null,
      "outputs": [
        {
          "output_type": "execute_result",
          "data": {
            "text/plain": [
              "0.5833333333333334"
            ]
          },
          "metadata": {
            "tags": []
          },
          "execution_count": 11
        }
      ]
    },
    {
      "cell_type": "code",
      "metadata": {
        "id": "yKQi3xDIlDiu",
        "outputId": "cd93fe3e-e917-4598-e918-a5282994cf5c"
      },
      "source": [
        "#Correlation\n",
        "\n",
        "df1 = X\n",
        "op=y\n",
        "a1=[]\n",
        "c1=[]\n",
        "\n",
        "for i in df1.columns.values:\n",
        "        df1[i]=df1[i].astype('float64')\n",
        "        correlation=op.corr(df1[i])\n",
        "        if correlation>0.2:\n",
        "            #print(correlation)\n",
        "            a1.append(correlation)\n",
        "            c1.append(i)\n",
        "\n",
        "dfc1=pd.DataFrame(c1)\n",
        "dfa1=pd.DataFrame(a1)\n",
        "info1 = pd.concat([dfc1,dfa1], axis=1)\n",
        "info1.columns = ['name','correlation']\n",
        "info1"
      ],
      "execution_count": null,
      "outputs": [
        {
          "output_type": "execute_result",
          "data": {
            "text/html": [
              "<div>\n",
              "<style scoped>\n",
              "    .dataframe tbody tr th:only-of-type {\n",
              "        vertical-align: middle;\n",
              "    }\n",
              "\n",
              "    .dataframe tbody tr th {\n",
              "        vertical-align: top;\n",
              "    }\n",
              "\n",
              "    .dataframe thead th {\n",
              "        text-align: right;\n",
              "    }\n",
              "</style>\n",
              "<table border=\"1\" class=\"dataframe\">\n",
              "  <thead>\n",
              "    <tr style=\"text-align: right;\">\n",
              "      <th></th>\n",
              "      <th>name</th>\n",
              "      <th>correlation</th>\n",
              "    </tr>\n",
              "  </thead>\n",
              "  <tbody>\n",
              "    <tr>\n",
              "      <th>0</th>\n",
              "      <td>31307_at</td>\n",
              "      <td>0.245531</td>\n",
              "    </tr>\n",
              "    <tr>\n",
              "      <th>1</th>\n",
              "      <td>31309_r_at</td>\n",
              "      <td>0.328682</td>\n",
              "    </tr>\n",
              "    <tr>\n",
              "      <th>2</th>\n",
              "      <td>31317_r_at</td>\n",
              "      <td>0.431369</td>\n",
              "    </tr>\n",
              "    <tr>\n",
              "      <th>3</th>\n",
              "      <td>31320_at</td>\n",
              "      <td>0.254630</td>\n",
              "    </tr>\n",
              "    <tr>\n",
              "      <th>4</th>\n",
              "      <td>31321_at</td>\n",
              "      <td>0.328553</td>\n",
              "    </tr>\n",
              "    <tr>\n",
              "      <th>...</th>\n",
              "      <td>...</td>\n",
              "      <td>...</td>\n",
              "    </tr>\n",
              "    <tr>\n",
              "      <th>4414</th>\n",
              "      <td>100_g_at</td>\n",
              "      <td>0.315135</td>\n",
              "    </tr>\n",
              "    <tr>\n",
              "      <th>4415</th>\n",
              "      <td>103_at</td>\n",
              "      <td>0.420099</td>\n",
              "    </tr>\n",
              "    <tr>\n",
              "      <th>4416</th>\n",
              "      <td>104_at</td>\n",
              "      <td>0.326254</td>\n",
              "    </tr>\n",
              "    <tr>\n",
              "      <th>4417</th>\n",
              "      <td>107_at</td>\n",
              "      <td>0.365811</td>\n",
              "    </tr>\n",
              "    <tr>\n",
              "      <th>4418</th>\n",
              "      <td>109_at</td>\n",
              "      <td>0.263463</td>\n",
              "    </tr>\n",
              "  </tbody>\n",
              "</table>\n",
              "<p>4419 rows × 2 columns</p>\n",
              "</div>"
            ],
            "text/plain": [
              "            name  correlation\n",
              "0       31307_at     0.245531\n",
              "1     31309_r_at     0.328682\n",
              "2     31317_r_at     0.431369\n",
              "3       31320_at     0.254630\n",
              "4       31321_at     0.328553\n",
              "...          ...          ...\n",
              "4414    100_g_at     0.315135\n",
              "4415      103_at     0.420099\n",
              "4416      104_at     0.326254\n",
              "4417      107_at     0.365811\n",
              "4418      109_at     0.263463\n",
              "\n",
              "[4419 rows x 2 columns]"
            ]
          },
          "metadata": {
            "tags": []
          },
          "execution_count": 12
        }
      ]
    },
    {
      "cell_type": "code",
      "metadata": {
        "id": "8nyQm4vTlDiz",
        "outputId": "734888e9-0ec4-453d-f749-9ad1f2e17365"
      },
      "source": [
        "top1 = info1.nlargest(50,'correlation')\n",
        "SelectedFeatures1= np.array(top1['name'])\n",
        "SelectedFeatures1"
      ],
      "execution_count": null,
      "outputs": [
        {
          "output_type": "execute_result",
          "data": {
            "text/plain": [
              "array(['40570_at', '35321_at', '35330_at', '39350_at', '39690_at',\n",
              "       '38486_at', '36943_r_at', '1664_at', '36308_at', '39542_at',\n",
              "       '39063_at', '40004_at', '649_s_at', '37749_at', '36118_at',\n",
              "       '33192_g_at', '41289_at', '1296_at', '41470_at', '35312_at',\n",
              "       '37605_at', '38031_at', '820_at', '34408_at', '33911_at',\n",
              "       '33405_at', '36113_s_at', '33929_at', '38713_at', '39327_at',\n",
              "       '2057_g_at', '659_g_at', '35824_at', '35648_at', '652_g_at',\n",
              "       '404_at', '35832_at', '35850_at', '32845_at', '41686_s_at',\n",
              "       '38809_s_at', '39084_at', '37735_at', '484_at', '33404_at',\n",
              "       '260_at', '36596_r_at', '36114_r_at', '37210_at', '41836_at'],\n",
              "      dtype=object)"
            ]
          },
          "metadata": {
            "tags": []
          },
          "execution_count": 13
        }
      ]
    },
    {
      "cell_type": "code",
      "metadata": {
        "id": "Q7Q-CZTjlDi5"
      },
      "source": [
        "\n",
        "  \n",
        "from collections import Counter\n",
        "from scipy.stats import entropy\n",
        "import math\n",
        "\n",
        "\n",
        "def info_gain(Ex, a, nan=True):\n",
        "    \"\"\" Compute the information gain of an attribute a for given examples.\n",
        "        Parameters\n",
        "        ----------\n",
        "        Ex : list of hashable\n",
        "            A list of hashable objects (examples)\n",
        "            corresponding to the given attributes a.\n",
        "            I.e. a[i] <--> Ex[i].\n",
        "        a : list of hashable\n",
        "            A list of hashable objects (attributes)\n",
        "            corresponding to the given examples Ex.\n",
        "            I.e. a[i] <--> Ex[i].\n",
        "            \n",
        "        nan : boolean, default=True\n",
        "            Boolean indicating how nan==nan should be evaluated.\n",
        "            Default == True to avoid division by 0 errors.\n",
        "        Returns\n",
        "        -------\n",
        "        result : float\n",
        "            Information gain by knowing given attributes.\n",
        "        \"\"\"\n",
        "    # Check whether examples and attributes have the same lengths.\n",
        "    if len(Ex) != len(a):\n",
        "        raise ValueError(\"Ex and a must be of the same size.\")\n",
        "\n",
        "    # Compute the entropy of examples\n",
        "    H_Ex = entropy(list(Counter(Ex).values()))\n",
        "\n",
        "    # If nan is True, replace all nan values in a by the string \"__nan__\"\n",
        "    if nan:\n",
        "        a = ['__nan__' if isinstance(x, float) and math.isnan(x) else x for x in a]\n",
        "    \n",
        "    # Compute the sum of all values v in a\n",
        "    sum_v = 0\n",
        "    for v in set(a):\n",
        "        Ex_a_v = [x for x, t in zip(Ex, a) if t == v]\n",
        "        sum_v += (len(Ex_a_v) / len(Ex)) *\\\n",
        "                 (entropy(list(Counter(Ex_a_v).values())))\n",
        "\n",
        "    # Return result\n",
        "    return H_Ex - sum_v\n",
        "\n",
        "\n",
        "def intrinsic_value(Ex, a, nan=True):\n",
        "    \"\"\" Compute the intrinsic value of an attribute a for given examples.\n",
        "        Parameters\n",
        "        ----------\n",
        "        Ex : list of hashable\n",
        "            A list of hashable objects (examples)\n",
        "            corresponding to the given attributes a.\n",
        "            I.e. a[i] <--> Ex[i].\n",
        "        a : list of hashable\n",
        "            A list of hashable objects (attributes)\n",
        "            corresponding to the given examples Ex.\n",
        "            I.e. a[i] <--> Ex[i].\n",
        "            \n",
        "        nan : boolean, default=True\n",
        "            Boolean indicating how nan==nan should be evaluated.\n",
        "            Default == True to avoid division by 0 errors.\n",
        "        Returns\n",
        "        -------\n",
        "        result : float\n",
        "            Intrinsic value of attribute a for samples Ex.\n",
        "        \"\"\"\n",
        "    # Check whether examples and attributes have the same lengths.\n",
        "    if len(Ex) != len(a):\n",
        "        raise ValueError(\"Ex and a must be of the same size.\")\n",
        "\n",
        "    # If nan is True, replace all nan values in a by the string \"__nan__\"\n",
        "    if nan:\n",
        "        a = ['__nan__' if isinstance(x, float) and math.isnan(x) else x for x in a]\n",
        "                \n",
        "    # Compute the sum of all values v in a\n",
        "    sum_v = 0\n",
        "    for v in set(a):\n",
        "        Ex_a_v = [x for x, t in zip(Ex, a) if t == v]\n",
        "        sum_v += (len(Ex_a_v) / len(Ex)) * math.log(len(Ex_a_v) / len(Ex), 2)\n",
        "\n",
        "    # Return result\n",
        "    return -sum_v\n",
        "\n",
        "\n",
        "def info_gain_ratio(Ex, a, nan=True):\n",
        "    \"\"\" Compute the information gain ratio of an attribute a for given examples.\n",
        "        Parameters\n",
        "        ----------\n",
        "        Ex : list of hashable\n",
        "            A list of hashable objects (examples)\n",
        "            corresponding to the given attributes a.\n",
        "            I.e. a[i] <--> Ex[i].\n",
        "        a : list of hashable\n",
        "            A list of hashable objects (attributes)\n",
        "            corresponding to the given examples Ex.\n",
        "            I.e. a[i] <--> Ex[i].\n",
        "            \n",
        "        nan : boolean, default=True\n",
        "            Boolean indicating how nan==nan should be evaluated.\n",
        "            Default == True to avoid division by 0 errors.\n",
        "        Returns\n",
        "        -------\n",
        "        result : float\n",
        "            Information gain ratio by knowing given attributes.\n",
        "            I.e. information gain normalised with intrinsic value calculation.\n",
        "        \"\"\"\n",
        "    # Check whether examples and attributes have the same lengths.\n",
        "    if len(Ex) != len(a):\n",
        "        raise ValueError(\"Ex and a must be of the same size.\")\n",
        "\n",
        "    # Compute information gain ratio as IG/IV\n",
        "    return info_gain(Ex, a, nan) / intrinsic_value(Ex, a, nan)\n"
      ],
      "execution_count": null,
      "outputs": []
    },
    {
      "cell_type": "code",
      "metadata": {
        "id": "QWYjVPewlDi-",
        "outputId": "92dcac2a-db44-4936-d762-77c3e1dc6d34"
      },
      "source": [
        "\n",
        "ar=[]\n",
        "br=[]\n",
        "for (columnName, columnData) in X.iteritems():\n",
        "        a=info_gain_ratio(columnData, y)\n",
        "        ar.append(a)\n",
        "        br.append(columnName)\n",
        "a1 = pd.DataFrame(ar)\n",
        "b1 = pd.DataFrame(br)\n",
        "info2 = pd.concat([a1,b1], axis=1)\n",
        "info2.columns = ['Score','Features']\n",
        "info2"
      ],
      "execution_count": null,
      "outputs": [
        {
          "output_type": "execute_result",
          "data": {
            "text/html": [
              "<div>\n",
              "<style scoped>\n",
              "    .dataframe tbody tr th:only-of-type {\n",
              "        vertical-align: middle;\n",
              "    }\n",
              "\n",
              "    .dataframe tbody tr th {\n",
              "        vertical-align: top;\n",
              "    }\n",
              "\n",
              "    .dataframe thead th {\n",
              "        text-align: right;\n",
              "    }\n",
              "</style>\n",
              "<table border=\"1\" class=\"dataframe\">\n",
              "  <thead>\n",
              "    <tr style=\"text-align: right;\">\n",
              "      <th></th>\n",
              "      <th>Score</th>\n",
              "      <th>Features</th>\n",
              "    </tr>\n",
              "  </thead>\n",
              "  <tbody>\n",
              "    <tr>\n",
              "      <th>0</th>\n",
              "      <td>0.253627</td>\n",
              "      <td>31307_at</td>\n",
              "    </tr>\n",
              "    <tr>\n",
              "      <th>1</th>\n",
              "      <td>0.379228</td>\n",
              "      <td>31309_r_at</td>\n",
              "    </tr>\n",
              "    <tr>\n",
              "      <th>2</th>\n",
              "      <td>0.120911</td>\n",
              "      <td>31313_at</td>\n",
              "    </tr>\n",
              "    <tr>\n",
              "      <th>3</th>\n",
              "      <td>0.423969</td>\n",
              "      <td>31314_at</td>\n",
              "    </tr>\n",
              "    <tr>\n",
              "      <th>4</th>\n",
              "      <td>0.379228</td>\n",
              "      <td>31315_at</td>\n",
              "    </tr>\n",
              "    <tr>\n",
              "      <th>...</th>\n",
              "      <td>...</td>\n",
              "      <td>...</td>\n",
              "    </tr>\n",
              "    <tr>\n",
              "      <th>9940</th>\n",
              "      <td>0.302509</td>\n",
              "      <td>105_at</td>\n",
              "    </tr>\n",
              "    <tr>\n",
              "      <th>9941</th>\n",
              "      <td>0.693147</td>\n",
              "      <td>106_at</td>\n",
              "    </tr>\n",
              "    <tr>\n",
              "      <th>9942</th>\n",
              "      <td>0.510816</td>\n",
              "      <td>107_at</td>\n",
              "    </tr>\n",
              "    <tr>\n",
              "      <th>9943</th>\n",
              "      <td>0.215756</td>\n",
              "      <td>108_g_at</td>\n",
              "    </tr>\n",
              "    <tr>\n",
              "      <th>9944</th>\n",
              "      <td>0.693147</td>\n",
              "      <td>109_at</td>\n",
              "    </tr>\n",
              "  </tbody>\n",
              "</table>\n",
              "<p>9945 rows × 2 columns</p>\n",
              "</div>"
            ],
            "text/plain": [
              "         Score    Features\n",
              "0     0.253627    31307_at\n",
              "1     0.379228  31309_r_at\n",
              "2     0.120911    31313_at\n",
              "3     0.423969    31314_at\n",
              "4     0.379228    31315_at\n",
              "...        ...         ...\n",
              "9940  0.302509      105_at\n",
              "9941  0.693147      106_at\n",
              "9942  0.510816      107_at\n",
              "9943  0.215756    108_g_at\n",
              "9944  0.693147      109_at\n",
              "\n",
              "[9945 rows x 2 columns]"
            ]
          },
          "metadata": {
            "tags": []
          },
          "execution_count": 15
        }
      ]
    },
    {
      "cell_type": "code",
      "metadata": {
        "id": "5tMB7nf9lDjE",
        "outputId": "2509a430-ff72-4ef5-d1f9-d20824ac0c83"
      },
      "source": [
        "top2 = info2.nlargest(50,'Score')\n",
        "SelectedFeatures2= np.array(top2['Features'])\n",
        "SelectedFeatures2"
      ],
      "execution_count": null,
      "outputs": [
        {
          "output_type": "execute_result",
          "data": {
            "text/plain": [
              "array(['31588_at', '31719_at', '31906_at', '32434_at', '32437_at',\n",
              "       '32987_at', '33004_g_at', '33686_at', '34145_at', '34148_at',\n",
              "       '36331_at', '36332_at', '36390_at', '36392_at', '32313_at',\n",
              "       '32877_i_at', '33499_s_at', '33956_at', '34481_at', '34531_at',\n",
              "       '34894_r_at', '35442_at', '35450_s_at', '35492_at', '36261_at',\n",
              "       '36307_at', '37150_at', '37151_at', '37420_i_at', '37462_i_at',\n",
              "       '37519_at', '37836_at', '38236_at', '38515_at', '38518_at',\n",
              "       '38523_f_at', '38527_at', '38576_at', '38922_at', '38951_at',\n",
              "       '39962_at', '39977_at', '40008_at', '40030_at', '40332_at',\n",
              "       '40364_at', '40369_f_at', '41049_at', '41418_at', '41440_at'],\n",
              "      dtype=object)"
            ]
          },
          "metadata": {
            "tags": []
          },
          "execution_count": 16
        }
      ]
    },
    {
      "cell_type": "code",
      "metadata": {
        "id": "ZT6JyBOrlDjI"
      },
      "source": [
        "#entropy\n",
        "def entropy(Y):\n",
        "    unique, count = np.unique(Y, return_counts=True, axis=0)\n",
        "    prob = count/len(Y)\n",
        "    en = np.sum((-1)*prob*np.log2(prob))\n",
        "    return en\n",
        "\n",
        "#Joint Entropy\n",
        "def jEntropy(Y,X):\n",
        "    YX = np.c_[Y,X]\n",
        "    return entropy(YX)\n",
        "\n",
        "#conditional entropy\n",
        "def cEntropy(Y, X):\n",
        "    return jEntropy(Y, X) - entropy(X)\n",
        "\n",
        "#gain\n",
        "def gain(Y, X):\n",
        "    return entropy(Y) - cEntropy(Y,X)\n",
        "\n",
        "#SU\n",
        "def symmetricalUncertain(Y,X):\n",
        "    n = float(y.shape[0])\n",
        "    vals = np.unique(Y)\n",
        "    # Computing Entropy for the feature x. \n",
        "    Hx = entropy(X)\n",
        "    # Computing Entropy for the feature y.\n",
        "    Hy = entropy(Y)\n",
        "    #Computing Joint entropy between x and y.\n",
        "    Hxy = jEntropy(Y,X)\n",
        "    IG = Hx-Hxy\n",
        "    return 2*IG/(Hx+Hy)"
      ],
      "execution_count": null,
      "outputs": []
    },
    {
      "cell_type": "code",
      "metadata": {
        "id": "Ghf4ffPulDjM",
        "outputId": "4912ecad-f581-4671-a0a2-cf9dbe6f2563"
      },
      "source": [
        "top_n1 =[]\n",
        "for i in X.columns.values:\n",
        "    X[i]=X[i].astype('float64')\n",
        "    y=y.astype('float64')\n",
        "    top_n1.append(symmetricalUncertain(X[i],y))\n",
        "    \n",
        "col_name1 = np.array(X.columns)\n",
        "a1 = pd.DataFrame(top_n1)\n",
        "b1 = pd.DataFrame(col_name1)\n",
        "info3 = pd.concat([a1,b1], axis=1)\n",
        "info3.columns = ['Score','Features']\n",
        "info3\n"
      ],
      "execution_count": null,
      "outputs": [
        {
          "output_type": "execute_result",
          "data": {
            "text/html": [
              "<div>\n",
              "<style scoped>\n",
              "    .dataframe tbody tr th:only-of-type {\n",
              "        vertical-align: middle;\n",
              "    }\n",
              "\n",
              "    .dataframe tbody tr th {\n",
              "        vertical-align: top;\n",
              "    }\n",
              "\n",
              "    .dataframe thead th {\n",
              "        text-align: right;\n",
              "    }\n",
              "</style>\n",
              "<table border=\"1\" class=\"dataframe\">\n",
              "  <thead>\n",
              "    <tr style=\"text-align: right;\">\n",
              "      <th></th>\n",
              "      <th>Score</th>\n",
              "      <th>Features</th>\n",
              "    </tr>\n",
              "  </thead>\n",
              "  <tbody>\n",
              "    <tr>\n",
              "      <th>0</th>\n",
              "      <td>-1.082757</td>\n",
              "      <td>31307_at</td>\n",
              "    </tr>\n",
              "    <tr>\n",
              "      <th>1</th>\n",
              "      <td>-1.201073</td>\n",
              "      <td>31309_r_at</td>\n",
              "    </tr>\n",
              "    <tr>\n",
              "      <th>2</th>\n",
              "      <td>-0.834761</td>\n",
              "      <td>31313_at</td>\n",
              "    </tr>\n",
              "    <tr>\n",
              "      <th>3</th>\n",
              "      <td>-1.248231</td>\n",
              "      <td>31314_at</td>\n",
              "    </tr>\n",
              "    <tr>\n",
              "      <th>4</th>\n",
              "      <td>-1.201073</td>\n",
              "      <td>31315_at</td>\n",
              "    </tr>\n",
              "    <tr>\n",
              "      <th>...</th>\n",
              "      <td>...</td>\n",
              "      <td>...</td>\n",
              "    </tr>\n",
              "    <tr>\n",
              "      <th>9940</th>\n",
              "      <td>-1.163732</td>\n",
              "      <td>105_at</td>\n",
              "    </tr>\n",
              "    <tr>\n",
              "      <th>9941</th>\n",
              "      <td>-1.176019</td>\n",
              "      <td>106_at</td>\n",
              "    </tr>\n",
              "    <tr>\n",
              "      <th>9942</th>\n",
              "      <td>-1.256785</td>\n",
              "      <td>107_at</td>\n",
              "    </tr>\n",
              "    <tr>\n",
              "      <th>9943</th>\n",
              "      <td>-1.044031</td>\n",
              "      <td>108_g_at</td>\n",
              "    </tr>\n",
              "    <tr>\n",
              "      <th>9944</th>\n",
              "      <td>-1.265066</td>\n",
              "      <td>109_at</td>\n",
              "    </tr>\n",
              "  </tbody>\n",
              "</table>\n",
              "<p>9945 rows × 2 columns</p>\n",
              "</div>"
            ],
            "text/plain": [
              "         Score    Features\n",
              "0    -1.082757    31307_at\n",
              "1    -1.201073  31309_r_at\n",
              "2    -0.834761    31313_at\n",
              "3    -1.248231    31314_at\n",
              "4    -1.201073    31315_at\n",
              "...        ...         ...\n",
              "9940 -1.163732      105_at\n",
              "9941 -1.176019      106_at\n",
              "9942 -1.256785      107_at\n",
              "9943 -1.044031    108_g_at\n",
              "9944 -1.265066      109_at\n",
              "\n",
              "[9945 rows x 2 columns]"
            ]
          },
          "metadata": {
            "tags": []
          },
          "execution_count": 18
        }
      ]
    },
    {
      "cell_type": "code",
      "metadata": {
        "id": "GIREz2h2lDjR",
        "outputId": "c3995404-df19-4109-cc5e-ccdf39c8e59d"
      },
      "source": [
        "top3 = info3.nlargest(50,'Score')\n",
        "SelectedFeatures3 = np.array(top3['Features'])\n",
        "SelectedFeatures3"
      ],
      "execution_count": null,
      "outputs": [
        {
          "output_type": "execute_result",
          "data": {
            "text/plain": [
              "array(['31593_at', '31698_at', '31947_r_at', '40029_at', '32098_at',\n",
              "       '32105_f_at', '33745_at', '33783_at', '35691_r_at', '36923_at',\n",
              "       '41204_s_at', '32817_at', '34399_at', '34410_at', '33153_at',\n",
              "       '1486_at', '1462_s_at', '999_at', '328_at', '41577_at', '31913_at',\n",
              "       '32463_at', '33600_at', '37158_at', '38504_at', '39992_at',\n",
              "       '40159_r_at', '32204_at', '1687_s_at', '1172_at', '378_s_at',\n",
              "       '341_at', '335_r_at', '31769_at', '35118_at', '35509_at',\n",
              "       '34485_r_at', '41114_at', '31825_at', '34241_at', '36541_at',\n",
              "       '38976_at', '39359_s_at', '40809_at', '39177_r_at', '41521_at',\n",
              "       '2049_s_at', '1597_at', '1504_s_at', '1210_s_at'], dtype=object)"
            ]
          },
          "metadata": {
            "tags": []
          },
          "execution_count": 19
        }
      ]
    },
    {
      "cell_type": "code",
      "metadata": {
        "id": "Ia1SwBr-lDjV"
      },
      "source": [
        "from functools import reduce\n",
        "def top_fs_union(n):\n",
        "    f1 = SelectedFeatures1[:n]\n",
        "    f2 = SelectedFeatures2[:n]\n",
        "    f3 = SelectedFeatures3[:n]\n",
        "    f_3k = reduce(np.union1d, (f1,f2,f3))\n",
        "    f_2k = ((len(f_3k)*2)//3)\n",
        "    f_2k_random = np.random.choice(f_3k,f_2k,replace=False)\n",
        "    f_5k = reduce(np.union1d, (f_3k,f_2k_random))\n",
        "    return(f_5k)"
      ],
      "execution_count": null,
      "outputs": []
    },
    {
      "cell_type": "code",
      "metadata": {
        "id": "6TW1B6HolDjd",
        "outputId": "a1689ff1-fe9e-4439-8a38-5f05ea857656"
      },
      "source": [
        "f1 = SelectedFeatures1[:5]\n",
        "f2 = SelectedFeatures2[:5]\n",
        "f3 = SelectedFeatures3[:5]\n",
        "f_3k = reduce(np.union1d, (f1,f2,f3))\n",
        "f_2k = ((len(f_3k)*2)//3)\n",
        "f_2k_random = np.random.choice(f_3k,f_2k,replace=False)\n",
        "f_5k = reduce(np.union1d, (f_3k,f_2k_random))\n",
        "f_5k"
      ],
      "execution_count": null,
      "outputs": [
        {
          "output_type": "execute_result",
          "data": {
            "text/plain": [
              "array(['31588_at', '31593_at', '31698_at', '31719_at', '31906_at',\n",
              "       '31947_r_at', '32098_at', '32434_at', '32437_at', '35321_at',\n",
              "       '35330_at', '39350_at', '39690_at', '40029_at', '40570_at'],\n",
              "      dtype=object)"
            ]
          },
          "metadata": {
            "tags": []
          },
          "execution_count": 21
        }
      ]
    },
    {
      "cell_type": "code",
      "metadata": {
        "id": "zaXef81JlDjh"
      },
      "source": [
        "def assemble_run(n,classifier,test_size):\n",
        "  top_fs=top_fs_union(n)\n",
        "  top_fs=np.append(top_fs,['class'], axis=0)\n",
        "  df = data.loc[:,top_fs]\n",
        "  X = df.drop(['class'], axis=1)\n",
        "  y = df['class']\n",
        "  from sklearn.model_selection import train_test_split\n",
        "  x_train, x_test, y_train, y_test = train_test_split(X,y,test_size=test_size)\n",
        "  model = classifier()#modify the code ,keep classifier in different function and call here\n",
        "  model.fit(x_train, y_train)\n",
        "  print (model.score(x_test,y_test))"
      ],
      "execution_count": null,
      "outputs": []
    },
    {
      "cell_type": "code",
      "metadata": {
        "id": "0noFT3uXlDjm",
        "outputId": "e4639965-abda-443a-e6ac-c23da430b985"
      },
      "source": [
        "#SUPPORT VECTOR MACHINE\n",
        "#Feature Subset by Union of 5 Best Features from each\n",
        "SVM5  = assemble_run(5,SVC,.5)\n",
        "#Feature Subset by Union of 10 Best Features from each\n",
        "SVM10 = assemble_run(10,SVC,.5)\n",
        "#Feature Subset by Union of 20 Best Features from each\n",
        "SVM20 = assemble_run(20,SVC,.5)\n",
        "#Feature Subset by Union of 30 Best Features from each\n",
        "SVM30 = assemble_run(30,SVC,.5)\n",
        "#Feature Subset by Union of 40 Best Features from each\n",
        "SVM40 = assemble_run(40,SVC,.5)\n",
        "#Feature Subset by Union of 50 Best Features from each\n",
        "SVM50 = assemble_run(50,SVC,.5)"
      ],
      "execution_count": null,
      "outputs": [
        {
          "output_type": "stream",
          "text": [
            "0.5833333333333334\n",
            "0.8333333333333334\n",
            "0.8333333333333334\n",
            "0.9166666666666666\n",
            "0.9166666666666666\n",
            "0.9166666666666666\n"
          ],
          "name": "stdout"
        }
      ]
    },
    {
      "cell_type": "code",
      "metadata": {
        "id": "LPewNfDtlDjq",
        "outputId": "b010d841-9cf0-4896-c6eb-b1b5faee81d7"
      },
      "source": [
        "#K-NEAREST NEIGHBOUR\n",
        "#Feature Subset by Union of 5 Best Features from each\n",
        "KNN5 = assemble_run(5,KNeighborsClassifier,.5)\n",
        "#Feature Subset by Union of 10 Best Features from each\n",
        "KNN10 = assemble_run(10,KNeighborsClassifier,.5)\n",
        "#Feature Subset by Union of 20 Best Features from each\n",
        "KNN20 = assemble_run(20,KNeighborsClassifier,.5)\n",
        "#Feature Subset by Union of 30 Best Features from each\n",
        "KNN30 = assemble_run(30,KNeighborsClassifier,.5)\n",
        "#Feature Subset by Union of 40 Best Features from each\n",
        "KNN40 = assemble_run(40,KNeighborsClassifier,.5)\n",
        "#Feature Subset by Union of 50 Best Features from each\n",
        "KNN50 = assemble_run(50,KNeighborsClassifier,.5)"
      ],
      "execution_count": null,
      "outputs": [
        {
          "output_type": "stream",
          "text": [
            "0.75\n",
            "0.5833333333333334\n",
            "1.0\n",
            "0.6666666666666666\n",
            "0.6666666666666666\n",
            "0.5\n"
          ],
          "name": "stdout"
        }
      ]
    },
    {
      "cell_type": "code",
      "metadata": {
        "id": "mSpfhL1WlDju",
        "outputId": "9ec0279d-30c9-44ff-c776-b3978a2918f7"
      },
      "source": [
        "#decision tree\n",
        "#Feature Subset by Union of 5 Best Features from each\n",
        "DT5  = assemble_run(5,DecisionTreeClassifier,.5)\n",
        "#Feature Subset by Union of 10 Best Features from each\n",
        "DT10 = assemble_run(10,DecisionTreeClassifier,.5)\n",
        "#Feature Subset by Union of 20 Best Features from each\n",
        "DT20 = assemble_run(20,DecisionTreeClassifier,.5)\n",
        "#Feature Subset by Union of 30 Best Features from each\n",
        "DT30 = assemble_run(30,DecisionTreeClassifier,.5)\n",
        "#Feature Subset by Union of 40 Best Features from each\n",
        "DT40 = assemble_run(40,DecisionTreeClassifier,.5)\n",
        "#Feature Subset by Union of 50 Best Features from each\n",
        "DT50 = assemble_run(50,DecisionTreeClassifier,.5)"
      ],
      "execution_count": null,
      "outputs": [
        {
          "output_type": "stream",
          "text": [
            "0.8333333333333334\n",
            "0.75\n",
            "1.0\n",
            "1.0\n",
            "0.9166666666666666\n",
            "0.75\n"
          ],
          "name": "stdout"
        }
      ]
    },
    {
      "cell_type": "code",
      "metadata": {
        "id": "UAjSbGWzlDjz",
        "outputId": "b8bd4537-e288-4d2a-8a2d-a47e1a857c65"
      },
      "source": [
        "#NAIVE BAYES\n",
        "#Feature Subset by Union of 5 Best Features from each\n",
        "NB5  = assemble_run(5,GaussianNB,.5)\n",
        "#Feature Subset by Union of 10 Best Features from each\n",
        "NB10 = assemble_run(10,GaussianNB,.5)\n",
        "#Feature Subset by Union of 20 Best Features from each\n",
        "NB20 = assemble_run(20,GaussianNB,.5)\n",
        "#Feature Subset by Union of 30 Best Features from each\n",
        "NB30 = assemble_run(30,GaussianNB,.5)\n",
        "#Feature Subset by Union of 40 Best Features from each\n",
        "NB40 = assemble_run(40,GaussianNB,.5)\n",
        "#Feature Subset by Union of 50 Best Features from each\n",
        "NB50 = assemble_run(50,GaussianNB,.5)"
      ],
      "execution_count": null,
      "outputs": [
        {
          "output_type": "stream",
          "text": [
            "0.9166666666666666\n",
            "0.9166666666666666\n",
            "0.5833333333333334\n",
            "0.5833333333333334\n",
            "0.75\n",
            "0.4166666666666667\n"
          ],
          "name": "stdout"
        }
      ]
    },
    {
      "cell_type": "code",
      "metadata": {
        "id": "N9V77SZJlDj7"
      },
      "source": [
        ""
      ],
      "execution_count": null,
      "outputs": []
    }
  ]
}